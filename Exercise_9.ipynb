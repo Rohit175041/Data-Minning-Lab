{
  "cells": [
    {
      "cell_type": "code",
      "execution_count": 2,
      "metadata": {
        "colab": {
          "base_uri": "https://localhost:8080/"
        },
        "id": "oA7bJunTqf9a",
        "outputId": "2712b4e3-37ab-4fba-8af9-66b2e34d1440"
      },
      "outputs": [
        {
          "output_type": "stream",
          "name": "stdout",
          "text": [
            "Looking in indexes: https://pypi.org/simple, https://us-python.pkg.dev/colab-wheels/public/simple/\n",
            "Requirement already satisfied: pyECLAT in /usr/local/lib/python3.9/dist-packages (1.0.2)\n",
            "Requirement already satisfied: numpy>=1.17.4 in /usr/local/lib/python3.9/dist-packages (from pyECLAT) (1.22.4)\n",
            "Requirement already satisfied: tqdm>=4.41.1 in /usr/local/lib/python3.9/dist-packages (from pyECLAT) (4.65.0)\n",
            "Requirement already satisfied: pandas>=0.25.3 in /usr/local/lib/python3.9/dist-packages (from pyECLAT) (1.4.4)\n",
            "Requirement already satisfied: pytz>=2020.1 in /usr/local/lib/python3.9/dist-packages (from pandas>=0.25.3->pyECLAT) (2022.7.1)\n",
            "Requirement already satisfied: python-dateutil>=2.8.1 in /usr/local/lib/python3.9/dist-packages (from pandas>=0.25.3->pyECLAT) (2.8.2)\n",
            "Requirement already satisfied: six>=1.5 in /usr/local/lib/python3.9/dist-packages (from python-dateutil>=2.8.1->pandas>=0.25.3->pyECLAT) (1.16.0)\n"
          ]
        }
      ],
      "source": [
        "!pip install pyECLAT"
      ]
    },
    {
      "cell_type": "code",
      "execution_count": 3,
      "metadata": {
        "colab": {
          "base_uri": "https://localhost:8080/",
          "height": 424
        },
        "id": "Zizzorq_qf9a",
        "outputId": "62819339-61d1-40fb-baca-faa823ea663f"
      },
      "outputs": [
        {
          "output_type": "execute_result",
          "data": {
            "text/plain": [
              "        0             1                 2                3      4   5\n",
              "0     LBE      Brooklyn             11204              NaN    NaN NaN\n",
              "1     MBE           WBE             BLACK  Cambria Heights  11411 NaN\n",
              "2     MBE         BLACK  Yorktown Heights            10598    NaN NaN\n",
              "3     MBE         BLACK        Long Beach            11561    NaN NaN\n",
              "4     MBE         ASIAN          Brooklyn            11235    NaN NaN\n",
              "...   ...           ...               ...              ...    ...  ..\n",
              "1415  WBE  NON-MINORITY          New York            10023    NaN NaN\n",
              "1416  MBE         ASIAN     Valley Stream            11580    NaN NaN\n",
              "1417  MBE         BLACK          Brooklyn            11214    NaN NaN\n",
              "1418  LBE      New York             10016              NaN    NaN NaN\n",
              "1419  MBE         ASIAN          New York            10002    NaN NaN\n",
              "\n",
              "[1420 rows x 6 columns]"
            ],
            "text/html": [
              "\n",
              "  <div id=\"df-ffcc92fa-60d5-4d67-8e72-c0433bfc95ed\">\n",
              "    <div class=\"colab-df-container\">\n",
              "      <div>\n",
              "<style scoped>\n",
              "    .dataframe tbody tr th:only-of-type {\n",
              "        vertical-align: middle;\n",
              "    }\n",
              "\n",
              "    .dataframe tbody tr th {\n",
              "        vertical-align: top;\n",
              "    }\n",
              "\n",
              "    .dataframe thead th {\n",
              "        text-align: right;\n",
              "    }\n",
              "</style>\n",
              "<table border=\"1\" class=\"dataframe\">\n",
              "  <thead>\n",
              "    <tr style=\"text-align: right;\">\n",
              "      <th></th>\n",
              "      <th>0</th>\n",
              "      <th>1</th>\n",
              "      <th>2</th>\n",
              "      <th>3</th>\n",
              "      <th>4</th>\n",
              "      <th>5</th>\n",
              "    </tr>\n",
              "  </thead>\n",
              "  <tbody>\n",
              "    <tr>\n",
              "      <th>0</th>\n",
              "      <td>LBE</td>\n",
              "      <td>Brooklyn</td>\n",
              "      <td>11204</td>\n",
              "      <td>NaN</td>\n",
              "      <td>NaN</td>\n",
              "      <td>NaN</td>\n",
              "    </tr>\n",
              "    <tr>\n",
              "      <th>1</th>\n",
              "      <td>MBE</td>\n",
              "      <td>WBE</td>\n",
              "      <td>BLACK</td>\n",
              "      <td>Cambria Heights</td>\n",
              "      <td>11411</td>\n",
              "      <td>NaN</td>\n",
              "    </tr>\n",
              "    <tr>\n",
              "      <th>2</th>\n",
              "      <td>MBE</td>\n",
              "      <td>BLACK</td>\n",
              "      <td>Yorktown Heights</td>\n",
              "      <td>10598</td>\n",
              "      <td>NaN</td>\n",
              "      <td>NaN</td>\n",
              "    </tr>\n",
              "    <tr>\n",
              "      <th>3</th>\n",
              "      <td>MBE</td>\n",
              "      <td>BLACK</td>\n",
              "      <td>Long Beach</td>\n",
              "      <td>11561</td>\n",
              "      <td>NaN</td>\n",
              "      <td>NaN</td>\n",
              "    </tr>\n",
              "    <tr>\n",
              "      <th>4</th>\n",
              "      <td>MBE</td>\n",
              "      <td>ASIAN</td>\n",
              "      <td>Brooklyn</td>\n",
              "      <td>11235</td>\n",
              "      <td>NaN</td>\n",
              "      <td>NaN</td>\n",
              "    </tr>\n",
              "    <tr>\n",
              "      <th>...</th>\n",
              "      <td>...</td>\n",
              "      <td>...</td>\n",
              "      <td>...</td>\n",
              "      <td>...</td>\n",
              "      <td>...</td>\n",
              "      <td>...</td>\n",
              "    </tr>\n",
              "    <tr>\n",
              "      <th>1415</th>\n",
              "      <td>WBE</td>\n",
              "      <td>NON-MINORITY</td>\n",
              "      <td>New York</td>\n",
              "      <td>10023</td>\n",
              "      <td>NaN</td>\n",
              "      <td>NaN</td>\n",
              "    </tr>\n",
              "    <tr>\n",
              "      <th>1416</th>\n",
              "      <td>MBE</td>\n",
              "      <td>ASIAN</td>\n",
              "      <td>Valley Stream</td>\n",
              "      <td>11580</td>\n",
              "      <td>NaN</td>\n",
              "      <td>NaN</td>\n",
              "    </tr>\n",
              "    <tr>\n",
              "      <th>1417</th>\n",
              "      <td>MBE</td>\n",
              "      <td>BLACK</td>\n",
              "      <td>Brooklyn</td>\n",
              "      <td>11214</td>\n",
              "      <td>NaN</td>\n",
              "      <td>NaN</td>\n",
              "    </tr>\n",
              "    <tr>\n",
              "      <th>1418</th>\n",
              "      <td>LBE</td>\n",
              "      <td>New York</td>\n",
              "      <td>10016</td>\n",
              "      <td>NaN</td>\n",
              "      <td>NaN</td>\n",
              "      <td>NaN</td>\n",
              "    </tr>\n",
              "    <tr>\n",
              "      <th>1419</th>\n",
              "      <td>MBE</td>\n",
              "      <td>ASIAN</td>\n",
              "      <td>New York</td>\n",
              "      <td>10002</td>\n",
              "      <td>NaN</td>\n",
              "      <td>NaN</td>\n",
              "    </tr>\n",
              "  </tbody>\n",
              "</table>\n",
              "<p>1420 rows × 6 columns</p>\n",
              "</div>\n",
              "      <button class=\"colab-df-convert\" onclick=\"convertToInteractive('df-ffcc92fa-60d5-4d67-8e72-c0433bfc95ed')\"\n",
              "              title=\"Convert this dataframe to an interactive table.\"\n",
              "              style=\"display:none;\">\n",
              "        \n",
              "  <svg xmlns=\"http://www.w3.org/2000/svg\" height=\"24px\"viewBox=\"0 0 24 24\"\n",
              "       width=\"24px\">\n",
              "    <path d=\"M0 0h24v24H0V0z\" fill=\"none\"/>\n",
              "    <path d=\"M18.56 5.44l.94 2.06.94-2.06 2.06-.94-2.06-.94-.94-2.06-.94 2.06-2.06.94zm-11 1L8.5 8.5l.94-2.06 2.06-.94-2.06-.94L8.5 2.5l-.94 2.06-2.06.94zm10 10l.94 2.06.94-2.06 2.06-.94-2.06-.94-.94-2.06-.94 2.06-2.06.94z\"/><path d=\"M17.41 7.96l-1.37-1.37c-.4-.4-.92-.59-1.43-.59-.52 0-1.04.2-1.43.59L10.3 9.45l-7.72 7.72c-.78.78-.78 2.05 0 2.83L4 21.41c.39.39.9.59 1.41.59.51 0 1.02-.2 1.41-.59l7.78-7.78 2.81-2.81c.8-.78.8-2.07 0-2.86zM5.41 20L4 18.59l7.72-7.72 1.47 1.35L5.41 20z\"/>\n",
              "  </svg>\n",
              "      </button>\n",
              "      \n",
              "  <style>\n",
              "    .colab-df-container {\n",
              "      display:flex;\n",
              "      flex-wrap:wrap;\n",
              "      gap: 12px;\n",
              "    }\n",
              "\n",
              "    .colab-df-convert {\n",
              "      background-color: #E8F0FE;\n",
              "      border: none;\n",
              "      border-radius: 50%;\n",
              "      cursor: pointer;\n",
              "      display: none;\n",
              "      fill: #1967D2;\n",
              "      height: 32px;\n",
              "      padding: 0 0 0 0;\n",
              "      width: 32px;\n",
              "    }\n",
              "\n",
              "    .colab-df-convert:hover {\n",
              "      background-color: #E2EBFA;\n",
              "      box-shadow: 0px 1px 2px rgba(60, 64, 67, 0.3), 0px 1px 3px 1px rgba(60, 64, 67, 0.15);\n",
              "      fill: #174EA6;\n",
              "    }\n",
              "\n",
              "    [theme=dark] .colab-df-convert {\n",
              "      background-color: #3B4455;\n",
              "      fill: #D2E3FC;\n",
              "    }\n",
              "\n",
              "    [theme=dark] .colab-df-convert:hover {\n",
              "      background-color: #434B5C;\n",
              "      box-shadow: 0px 1px 3px 1px rgba(0, 0, 0, 0.15);\n",
              "      filter: drop-shadow(0px 1px 2px rgba(0, 0, 0, 0.3));\n",
              "      fill: #FFFFFF;\n",
              "    }\n",
              "  </style>\n",
              "\n",
              "      <script>\n",
              "        const buttonEl =\n",
              "          document.querySelector('#df-ffcc92fa-60d5-4d67-8e72-c0433bfc95ed button.colab-df-convert');\n",
              "        buttonEl.style.display =\n",
              "          google.colab.kernel.accessAllowed ? 'block' : 'none';\n",
              "\n",
              "        async function convertToInteractive(key) {\n",
              "          const element = document.querySelector('#df-ffcc92fa-60d5-4d67-8e72-c0433bfc95ed');\n",
              "          const dataTable =\n",
              "            await google.colab.kernel.invokeFunction('convertToInteractive',\n",
              "                                                     [key], {});\n",
              "          if (!dataTable) return;\n",
              "\n",
              "          const docLinkHtml = 'Like what you see? Visit the ' +\n",
              "            '<a target=\"_blank\" href=https://colab.research.google.com/notebooks/data_table.ipynb>data table notebook</a>'\n",
              "            + ' to learn more about interactive tables.';\n",
              "          element.innerHTML = '';\n",
              "          dataTable['output_type'] = 'display_data';\n",
              "          await google.colab.output.renderOutput(dataTable, element);\n",
              "          const docLink = document.createElement('div');\n",
              "          docLink.innerHTML = docLinkHtml;\n",
              "          element.appendChild(docLink);\n",
              "        }\n",
              "      </script>\n",
              "    </div>\n",
              "  </div>\n",
              "  "
            ]
          },
          "metadata": {},
          "execution_count": 3
        }
      ],
      "source": [
        "import pandas as pd\n",
        "\n",
        "# you simply convert the transaction list into a dataframe\n",
        "# data = pd.DataFrame(T3)\n",
        "df = pd.read_csv('/content/basket.csv - basket.csv.csv', header=None);\n",
        "T4 = df.values.tolist();\n",
        "\n",
        "data = pd.DataFrame(T4)\n",
        "data"
      ]
    },
    {
      "cell_type": "code",
      "execution_count": 4,
      "metadata": {
        "id": "kYH1DEeWqf9a"
      },
      "outputs": [],
      "source": [
        "# we are looking for itemSETS\n",
        "# we do not want to have any individual products returned\n",
        "min_n_products = 2\n",
        "\n",
        "# we want to set min support to 7\n",
        "# but we have to express it as a percentage\n",
        "min_support = 2/100 #len(T4)\n",
        "\n",
        "# we have no limit on the size of association rules\n",
        "# so we set it to the longest transaction\n",
        "max_length = max([len(x) for x in T4])"
      ]
    },
    {
      "cell_type": "code",
      "execution_count": 5,
      "metadata": {
        "colab": {
          "base_uri": "https://localhost:8080/"
        },
        "id": "pRSFWbj2qf9a",
        "outputId": "c9969792-bb5e-4393-d8a8-f73013c76b2b"
      },
      "outputs": [
        {
          "output_type": "stream",
          "name": "stderr",
          "text": [
            "100%|██████████| 728/728 [00:02<00:00, 251.77it/s]\n",
            "100%|██████████| 728/728 [00:00<00:00, 3289.17it/s]\n",
            "100%|██████████| 728/728 [00:01<00:00, 700.78it/s]\n"
          ]
        },
        {
          "output_type": "stream",
          "name": "stdout",
          "text": [
            "Combination 2 by 2\n"
          ]
        },
        {
          "output_type": "stream",
          "name": "stderr",
          "text": [
            "78it [00:07, 10.34it/s]\n"
          ]
        },
        {
          "output_type": "stream",
          "name": "stdout",
          "text": [
            "Combination 3 by 3\n"
          ]
        },
        {
          "output_type": "stream",
          "name": "stderr",
          "text": [
            "286it [00:10, 26.72it/s]\n"
          ]
        },
        {
          "output_type": "stream",
          "name": "stdout",
          "text": [
            "Combination 4 by 4\n"
          ]
        },
        {
          "output_type": "stream",
          "name": "stderr",
          "text": [
            "715it [00:25, 28.44it/s]\n"
          ]
        },
        {
          "output_type": "stream",
          "name": "stdout",
          "text": [
            "Combination 5 by 5\n"
          ]
        },
        {
          "output_type": "stream",
          "name": "stderr",
          "text": [
            "1287it [00:46, 27.59it/s]\n"
          ]
        },
        {
          "output_type": "stream",
          "name": "stdout",
          "text": [
            "Combination 6 by 6\n"
          ]
        },
        {
          "output_type": "stream",
          "name": "stderr",
          "text": [
            "1716it [01:03, 27.16it/s]\n"
          ]
        }
      ],
      "source": [
        "from pyECLAT import ECLAT\n",
        "\n",
        "# create an instance of eclat\n",
        "my_eclat = ECLAT(data=data, verbose=True)\n",
        "\n",
        "# fit the algorithm\n",
        "rule_indices, rule_supports = my_eclat.fit(min_support=min_support,\n",
        "                                           min_combination=min_n_products,\n",
        "                                           max_combination=max_length)\n"
      ]
    },
    {
      "cell_type": "code",
      "execution_count": 6,
      "metadata": {
        "id": "zLOxPThlqf9b",
        "outputId": "d7d2e6f2-1b7f-42f8-95fc-07b2859a36c7",
        "colab": {
          "base_uri": "https://localhost:8080/"
        }
      },
      "outputs": [
        {
          "output_type": "stream",
          "name": "stdout",
          "text": [
            "{'BLACK & WBE': 0.08169014084507042, 'BLACK & Brooklyn': 0.07112676056338028, 'BLACK & MBE': 0.30070422535211266, 'BLACK & Bronx': 0.04154929577464789, 'BLACK & New York': 0.057746478873239436, 'WBE & Brooklyn': 0.06267605633802817, 'WBE & ASIAN': 0.038028169014084505, 'WBE & MBE': 0.16901408450704225, 'WBE & Bronx': 0.022535211267605635, 'WBE & NON-MINORITY': 0.3, 'WBE & HISPANIC': 0.047183098591549295, 'WBE & New York': 0.17535211267605633, 'LBE & MBE': 0.03169014084507042, 'Brooklyn & ASIAN': 0.028169014084507043, 'Brooklyn & MBE': 0.11267605633802817, 'Brooklyn & NON-MINORITY': 0.035211267605633804, 'ASIAN & MBE': 0.2, 'ASIAN & New York': 0.06056338028169014, '10001 & New York': 0.03380281690140845, 'MBE & Bronx': 0.07112676056338028, 'MBE & HISPANIC': 0.16408450704225352, 'MBE & New York': 0.1704225352112676, 'Bronx & HISPANIC': 0.023943661971830985, 'NON-MINORITY & New York': 0.11830985915492957, '10018 & New York': 0.027464788732394368, 'HISPANIC & New York': 0.05070422535211268, 'BLACK & WBE & Brooklyn': 0.02112676056338028, 'BLACK & WBE & MBE': 0.08169014084507042, 'BLACK & WBE & New York': 0.021830985915492956, 'BLACK & Brooklyn & MBE': 0.07112676056338028, 'BLACK & MBE & Bronx': 0.04154929577464789, 'BLACK & MBE & New York': 0.057746478873239436, 'WBE & Brooklyn & MBE': 0.02676056338028169, 'WBE & Brooklyn & NON-MINORITY': 0.035211267605633804, 'WBE & ASIAN & MBE': 0.03591549295774648, 'WBE & MBE & HISPANIC': 0.047183098591549295, 'WBE & MBE & New York': 0.0528169014084507, 'WBE & NON-MINORITY & New York': 0.11830985915492957, 'Brooklyn & ASIAN & MBE': 0.028169014084507043, 'ASIAN & MBE & New York': 0.05985915492957746, 'MBE & Bronx & HISPANIC': 0.023943661971830985, 'MBE & HISPANIC & New York': 0.05070422535211268, 'BLACK & WBE & Brooklyn & MBE': 0.02112676056338028, 'BLACK & WBE & MBE & New York': 0.021830985915492956}\n"
          ]
        }
      ],
      "source": [
        "print(rule_supports)"
      ]
    },
    {
      "cell_type": "code",
      "source": [
        "def lenStr(str):\n",
        "  ans = 1\n",
        "  for x in str:\n",
        "    if(x == '&'):\n",
        "      ans = ans + 1\n",
        "  return ans\n",
        "\n",
        "max_length = max([lenStr(x) for x in rule_supports])\n",
        "\n",
        "print(\"Maximum size of rules generated are: \", max_length);"
      ],
      "metadata": {
        "colab": {
          "base_uri": "https://localhost:8080/"
        },
        "id": "Zjku3vlnydbO",
        "outputId": "92a6457b-fa16-415d-e949-cced7f9b3520"
      },
      "execution_count": 7,
      "outputs": [
        {
          "output_type": "stream",
          "name": "stdout",
          "text": [
            "Maximum size of rules generated are:  4\n"
          ]
        }
      ]
    },
    {
      "cell_type": "markdown",
      "source": [
        "1.   For a support value of 10%, at least one rule is generated. However, if the support value is set above 15%, no rules are generated.\n",
        "2.   The maximum size of rules generated is four for a support value of 2%. Generating rules for a lower support value than this takes a considerable amount of time.\n",
        "\n"
      ],
      "metadata": {
        "id": "p03zxqzq0A4Y"
      }
    }
  ],
  "metadata": {
    "kernelspec": {
      "display_name": "Python 3",
      "language": "python",
      "name": "python3"
    },
    "language_info": {
      "codemirror_mode": {
        "name": "ipython",
        "version": 3
      },
      "file_extension": ".py",
      "mimetype": "text/x-python",
      "name": "python",
      "nbconvert_exporter": "python",
      "pygments_lexer": "ipython3",
      "version": "3.6.7"
    },
    "colab": {
      "provenance": []
    }
  },
  "nbformat": 4,
  "nbformat_minor": 0
}