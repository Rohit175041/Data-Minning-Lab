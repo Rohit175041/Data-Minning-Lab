{
 "cells": [
  {
   "cell_type": "code",
   "execution_count": null,
   "id": "fb188707",
   "metadata": {},
   "outputs": [],
   "source": [
    "# Exercise 3"
   ]
  },
  {
   "cell_type": "code",
   "execution_count": null,
   "id": "d1ea70f8",
   "metadata": {},
   "outputs": [],
   "source": [
    "# Question 1: You are required to write a program to sort the (name, age, height) tuples by ascending order where name is string, age and height are numbers. The tuples are input by console. The sort criteria is: 1: Sort based on name; 2: Then sort based on age; 3: Then sort by score. The priority is that name > age > score.\n",
    "# If the following tuples are given as input to the program:\n",
    "# Tom,19,80\n",
    "# John,20,90\n",
    "# Jony,17,91\n",
    "# Jony,17,93\n",
    "# \n",
    "\n",
    "# Then, the output of the program should be:\n",
    "# [('John', '20', '90'), ('Jony', '17', '91'), ('Jony', '17', '93'), ('Json', '21', '85'), ('Tom', '19', '80')]\n",
    "\n",
    "size=int(input(\"Enter the size of list:\"))\n",
    "list=[]\n",
    "for i in range(0,size):\n",
    "    data=input(\"Enter name ,age,height:\").split(',')\n",
    "    list.append((data[0],int(data[1]),int(data[2])))\n",
    "print(\"Before sort:\")    \n",
    "print(list)\n",
    "list.sort(key=lambda tup:(tup[0],tup[1],tup[2]))\n",
    "print(\"After sort:\")\n",
    "print(list)"
   ]
  },
  {
   "cell_type": "code",
   "execution_count": 18,
   "id": "194860f9",
   "metadata": {},
   "outputs": [
    {
     "name": "stdout",
     "output_type": "stream",
     "text": [
      "Enter the sentense:My name is John. My age is 20. My height is 30.\n",
      "My name is John. My age is 20. My height is 30.\n",
      "My:3\n",
      "name:1\n",
      "is:3\n",
      "John:1\n",
      "age:1\n",
      "20:1\n",
      "height:1\n",
      "30:1\n"
     ]
    }
   ],
   "source": [
    "# Question 2: Calculate Word Frequencies. Take a set of sentences in a string as an input. Count each unique occurrence of a word and calculate frequency of occurrence and store in a dictionary. Produce a frequency table.\n",
    "# Hint1: Iterate through the string, placing the words into a dict. The first time a word is seen, the frequency is 1. Each time the word is seen again, increment the frequency. \n",
    "# Hint2: Similar program given in Tuple Dictionary Notebook.\n",
    "\n",
    "def freq(data):\n",
    "    data=data.replace('.', '')\n",
    "    word=data.split()\n",
    "    dic={}\n",
    "    for i in word:\n",
    "        if i in dic:\n",
    "            dic[i]+=1\n",
    "        else:\n",
    "            dic[i]=1\n",
    "    return dic\n",
    "data=input(\"Enter the sentense:\")\n",
    "print(data)\n",
    "data_frequency=freq(data)\n",
    "for data,fre in data_frequency.items():\n",
    "    print(f\"{data}:{fre}\")\n",
    "    "
   ]
  },
  {
   "cell_type": "code",
   "execution_count": null,
   "id": "1f9f3001",
   "metadata": {},
   "outputs": [],
   "source": [
    "# Question 3: Result Calculation. Create a dictionary and a list like following.\n",
    "# Student = { 'UE183001': 'Avish', 'UE183002': 'Bhavya', 'UE183003': 'Tanya' } Add atleast 10 students\n",
    "# Marks = [('UE183001', 'CS', 94 ), ('UE183002', 'CS', 64 ), ('UE183001', 'RV', 94), ('UE183002', 'CS', 74), \n",
    "#   ('UE183003', 'CS', 64)] Add some more values\n",
    "# Find total marks of each students and display full name of student with total marks secured. This is the basic relational database join algorithm between two tables.\n",
    "\n",
    "Student = { 'UE183001': 'Avish', 'UE183002': 'Bhavya', 'UE183003': 'Tanya','UE183004': 'John','UE183005': 'Mike','UE183006': 'Jane','UE183007': 'Jasmine','UE183008': 'Liam','UE183009': 'Emily','UE183010': 'Olivia' }\n",
    "\n",
    "Marks = [('UE183001', 'CS', 94 ), ('UE183002', 'CS', 64 ), ('UE183001', 'RV', 94), ('UE183002', 'CS', 74), ('UE183003', 'CS', 64), ('UE183004', 'MATH', 89), ('UE183005', 'MATH', 94), ('UE183006', 'PHY', 74), ('UE183007', 'CHEM', 84), ('UE183008', 'CHEM', 94), ('UE183009', 'BIO', 64), ('UE183010', 'BIO', 74)]\n",
    "student_marks={}\n",
    "for (roll_no,subject,mark) in Marks:\n",
    "    if roll_no in student_marks:\n",
    "        student_marks[roll_no]+=mark\n",
    "    else:\n",
    "        student_marks[roll_no]=mark\n",
    "for (roll_no,total_marks)in student_marks.items():\n",
    "    print(f\"Total marks obtained by {Student[roll_no]} is  {total_marks}\")"
   ]
  },
  {
   "cell_type": "code",
   "execution_count": 28,
   "id": "2f9ba5c6",
   "metadata": {},
   "outputs": [
    {
     "name": "stdout",
     "output_type": "stream",
     "text": [
      "Enter date:8-MAR-85\n",
      "{'JAN': 1, 'FEB': 2, 'MAR': 3, 'APR': 4, 'MAY': 5, 'JUN': 6, 'JUL': 7, 'AUG': 8, 'SEP': 9, 'OCT': 10, 'NOV': 11, 'DEC': 12}\n",
      "(85, 3, 8)\n"
     ]
    }
   ],
   "source": [
    "# Question 4: A date of the form 8-MAR-85 includes the name of the month, which must be translated to a number. Create a dict suitable for decoding month names to numbers. Create a function which uses string operations to split the date into 3 items using the \"-\" character. Translate the month, correct the year to include all of the digits.\n",
    "# The function will accept a date in the \"dd-MMM-yy\" format and respond with a tuple of ( y , m , d ).\n",
    "Months = {\"JAN\": 1, \"FEB\": 2, \"MAR\": 3, \"APR\": 4, \"MAY\": 5, \"JUN\": 6, \"JUL\": 7, \"AUG\": 8, \"SEP\": 9, \"OCT\": 10, \"NOV\": 11, \"DEC\": 12}\n",
    "\n",
    "def conversion(date):\n",
    "    dmy=date.split('-')\n",
    "    return (int(dmy[2]),Months[dmy[1]],int(dmy[0]))\n",
    "\n",
    "date=input(\"Enter date:\")\n",
    "print(date)\n",
    "print(conversion(date))\n"
   ]
  },
  {
   "cell_type": "code",
   "execution_count": 31,
   "id": "328f898b",
   "metadata": {},
   "outputs": [
    {
     "name": "stdout",
     "output_type": "stream",
     "text": [
      "Sum  2  total combination is:  [(1, 1)]\n",
      "Sum  3  total combination is:  [(1, 2), (2, 1)]\n",
      "Sum  4  total combination is:  [(1, 3), (2, 2), (3, 1)]\n",
      "Sum  5  total combination is:  [(1, 4), (2, 3), (3, 2), (4, 1)]\n",
      "Sum  6  total combination is:  [(1, 5), (2, 4), (3, 3), (4, 2), (5, 1)]\n",
      "Sum  7  total combination is:  [(1, 6), (2, 5), (3, 4), (4, 3), (5, 2), (6, 1)]\n",
      "Sum  8  total combination is:  [(2, 6), (3, 5), (4, 4), (5, 3), (6, 2)]\n",
      "Sum  9  total combination is:  [(3, 6), (4, 5), (5, 4), (6, 3)]\n",
      "Sum  10  total combination is:  [(4, 6), (5, 5), (6, 4)]\n",
      "Sum  11  total combination is:  [(5, 6), (6, 5)]\n",
      "Sum  12  total combination is:  [(6, 6)]\n"
     ]
    }
   ],
   "source": [
    "# Question 5: Dice Odds. There are 36 possible combinations of two dice. A simple pair of loops over range(6)+1 will enumerate all combinations. The sum of the two dice is more interesting than the actual combination. Create a dict of all combinations, using the sum of the two dice as the key. Each value in the dict should be a list of tuples; each tuple has the value of two dice. The general outline is something like the following:\n",
    "# d= {}\n",
    "# Loop with d1 from 1 to 6\n",
    "#     Loop with d2 from 1 to 6\n",
    "#         newTuple ← ( d1, d2 ) # create the tuple\n",
    "#         oldList ← dictionary entry for sum d1+d2\n",
    "#         newList ← oldList + newTuple\n",
    "#         replace entry in dictionary with newList\n",
    "# Loop over all values in the dictionary\n",
    "# print the key and the length of the list\n",
    "\n",
    "combination={}\n",
    "for dice1 in range(1,7):\n",
    "    for dice2 in range(1,7):\n",
    "        dice_sum = dice1 + dice2\n",
    "        if dice_sum in combination:\n",
    "            combination[dice_sum].append((dice1,dice2))\n",
    "        else:\n",
    "            combination[dice_sum]=[(dice1,dice2)]\n",
    "for dice_sum in combination:\n",
    "    print(\"Sum \",dice_sum,\" total combination is: \",combination[dice_sum])"
   ]
  },
  {
   "cell_type": "code",
   "execution_count": null,
   "id": "ed79d6a4",
   "metadata": {},
   "outputs": [],
   "source": []
  }
 ],
 "metadata": {
  "kernelspec": {
   "display_name": "Python 3 (ipykernel)",
   "language": "python",
   "name": "python3"
  },
  "language_info": {
   "codemirror_mode": {
    "name": "ipython",
    "version": 3
   },
   "file_extension": ".py",
   "mimetype": "text/x-python",
   "name": "python",
   "nbconvert_exporter": "python",
   "pygments_lexer": "ipython3",
   "version": "3.9.7"
  }
 },
 "nbformat": 4,
 "nbformat_minor": 5
}
