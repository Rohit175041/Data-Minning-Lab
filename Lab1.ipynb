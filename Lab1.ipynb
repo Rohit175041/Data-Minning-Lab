{
 "cells": [
  {
   "cell_type": "code",
   "execution_count": 1,
   "id": "a1d74037",
   "metadata": {},
   "outputs": [
    {
     "name": "stdout",
     "output_type": "stream",
     "text": [
      "['In', 'Python,', 'if-else', 'elif', 'statement', 'is', 'used', 'for', 'decision', 'making']\n",
      "In Ptnhoy, if-sele elif sneatmtet is used for docisein minkag \n"
     ]
    }
   ],
   "source": [
    "from random import shuffle\n",
    "import random\n",
    "data1=\"In Python, if-else elif statement is used for decision making\"\n",
    "string=\"\"\n",
    "# converting string into list\n",
    "data2=data1.split()\n",
    "print(data2)\n",
    "for letter in data2 :\n",
    "    if len(letter)<=3:\n",
    "        string+=letter\n",
    "        string+=\" \"\n",
    "    else:\n",
    "        mi=letter[1:-1]\n",
    "        string+=letter[0]\n",
    "        string+=\"\".join(random.sample(mi,len(mi)))\n",
    "        string+=letter[-1]\n",
    "        string+=\" \"\n",
    "print(string) "
   ]
  },
  {
   "cell_type": "code",
   "execution_count": null,
   "id": "888eb389",
   "metadata": {},
   "outputs": [],
   "source": []
  }
 ],
 "metadata": {
  "kernelspec": {
   "display_name": "Python 3 (ipykernel)",
   "language": "python",
   "name": "python3"
  },
  "language_info": {
   "codemirror_mode": {
    "name": "ipython",
    "version": 3
   },
   "file_extension": ".py",
   "mimetype": "text/x-python",
   "name": "python",
   "nbconvert_exporter": "python",
   "pygments_lexer": "ipython3",
   "version": "3.9.7"
  }
 },
 "nbformat": 4,
 "nbformat_minor": 5
}
