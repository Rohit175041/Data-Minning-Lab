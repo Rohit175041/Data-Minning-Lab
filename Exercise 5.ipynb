{
 "cells": [
  {
   "cell_type": "code",
   "execution_count": 1,
   "id": "53948c51",
   "metadata": {},
   "outputs": [
    {
     "name": "stdout",
     "output_type": "stream",
     "text": [
      "[[0. 1. 0.]\n",
      " [0. 0. 1.]\n",
      " [0. 1. 0.]\n",
      " [0. 1. 0.]\n",
      " [0. 1. 0.]\n",
      " [1. 0. 0.]]\n"
     ]
    }
   ],
   "source": [
    "# Create one hot encoding of an array. For example For an array([2, 3, 2, 2, 2, 1]) Output should be\n",
    "#    array([[ 0.,  1.,  0.],\n",
    "#              [ 0.,  0.,  1.],\n",
    "#              [ 0.,  1.,  0.],\n",
    "#              [ 0.,  1.,  0.],\n",
    "#              [ 0.,  1.,  0.],\n",
    "#             [ 1.,  0.,  0.]])\n",
    "import numpy as np\n",
    "arr = np.array([2, 3, 2, 2, 2, 1])\n",
    "max=0\n",
    "for i in arr:\n",
    "    if i > max:\n",
    "        max=i\n",
    "\n",
    "arr2=np.zeros((len(arr),max))\n",
    "for i in range(0,len(arr)):\n",
    "    for j in range(0,max):\n",
    "        if arr[i] == j+1:\n",
    "            arr2[i][j]=1\n",
    "print(arr2)"
   ]
  },
  {
   "cell_type": "code",
   "execution_count": 2,
   "id": "281f5eb6",
   "metadata": {},
   "outputs": [
    {
     "name": "stdout",
     "output_type": "stream",
     "text": [
      "[1. 2. 3. 5. 6. 7. 8.]\n"
     ]
    }
   ],
   "source": [
    "# 2.Drop all missing values from an array Input: np.array([1,2,3,np.nan,5,6,7,np.nan]) \n",
    "# Desired Output: array([ 1.,2.,3.,5.,6.,7.])\n",
    "arr=np.array([1,2,3,np.nan,5,6,7,8,np.nan])\n",
    "\n",
    "print(arr[~np.isnan(arr)])"
   ]
  },
  {
   "cell_type": "code",
   "execution_count": 3,
   "id": "bc2b9186",
   "metadata": {},
   "outputs": [
    {
     "name": "stdout",
     "output_type": "stream",
     "text": [
      "2\n",
      "5\n"
     ]
    }
   ],
   "source": [
    "# 3.Find Local maxima from an array. Input:\n",
    "# a = np.array([1, 3, 7, 1, 2, 6, 0, 1]) Desired Output: array([2, 5])\n",
    "a = np.array([1, 3, 7, 1, 2, 6, 0, 1])\n",
    "diff = np.diff(a)\n",
    "\n",
    "for i in range(0,len(diff)):\n",
    "    if diff[i]<-1:\n",
    "        print(i)\n"
   ]
  },
  {
   "cell_type": "code",
   "execution_count": null,
   "id": "a2c0b55a",
   "metadata": {},
   "outputs": [],
   "source": [
    "# 4.From the given 1d array arr, generate a 2d matrix using strides,\n",
    "# For example for an array ([ 0,  1,  2,  3,  4,  5,  6,  7,  8,  9, 10, 11, 12, 13, 14])with \n",
    "# a window length of w=4 and strides of s=2, like [[0,1,2,3], [2,3,4,5], [4,5,6,7]..]\n",
    "# w and s will be provided by user\n",
    "def print_matrix(arr, w, s):\n",
    "    ans = []\n",
    "    for i in range(0, len(arr), s):\n",
    "        temp = []\n",
    "        for k in range(w):\n",
    "            if i+k >= len(arr):\n",
    "                temp.append(0)\n",
    "            else:\n",
    "                temp.append(arr[i+k])\n",
    "        ans.append(temp)\n",
    "\n",
    "    return ans\n",
    "\n",
    "arr = np.array([ 0,  1,  2,  3,  4,  5,  6,  7,  8,  9, 10, 11, 12, 13, 14])\n",
    "w = int(input())\n",
    "s = int(input())\n",
    "print(print_matrix(arr, w, s))"
   ]
  },
  {
   "cell_type": "code",
   "execution_count": null,
   "id": "264ca272",
   "metadata": {},
   "outputs": [],
   "source": []
  }
 ],
 "metadata": {
  "kernelspec": {
   "display_name": "Python 3 (ipykernel)",
   "language": "python",
   "name": "python3"
  },
  "language_info": {
   "codemirror_mode": {
    "name": "ipython",
    "version": 3
   },
   "file_extension": ".py",
   "mimetype": "text/x-python",
   "name": "python",
   "nbconvert_exporter": "python",
   "pygments_lexer": "ipython3",
   "version": "3.9.7"
  }
 },
 "nbformat": 4,
 "nbformat_minor": 5
}
