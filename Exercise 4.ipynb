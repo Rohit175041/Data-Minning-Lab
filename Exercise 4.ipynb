{
 "cells": [
  {
   "cell_type": "code",
   "execution_count": 38,
   "id": "4998fcba",
   "metadata": {},
   "outputs": [],
   "source": [
    "import numpy as np"
   ]
  },
  {
   "cell_type": "code",
   "execution_count": 43,
   "id": "2419c76d",
   "metadata": {},
   "outputs": [
    {
     "name": "stdout",
     "output_type": "stream",
     "text": [
      "numpy array contains zero\n"
     ]
    }
   ],
   "source": [
    "# 1.Create a function to check whether numpy array has Zero values or not.\n",
    "a=np.array([1,3,0,7,9])\n",
    "\n",
    "def check(a):\n",
    "    for i in a:\n",
    "        if i==0:\n",
    "            return \"numpy array contains zero\"\n",
    "    return \"numpy array not contain zero\"\n",
    "print(check(a))"
   ]
  },
  {
   "cell_type": "code",
   "execution_count": 153,
   "id": "0e7a1fed",
   "metadata": {},
   "outputs": [
    {
     "name": "stdout",
     "output_type": "stream",
     "text": [
      "83.8\n",
      "Student fail\n",
      "77.4\n",
      "81.8\n",
      "100\n",
      "39\n",
      "70\n",
      "90\n"
     ]
    }
   ],
   "source": [
    "# 2.Consider an array contains marks of students. Find the median and mean of students who got passing marks.\n",
    "import array \n",
    "import math\n",
    "\n",
    "list1=[[85,67,100,77,90],[80,77,39,87,90],[85,65,70,77,90],[75,77,90,77,90]]\n",
    "# print(markslist)\n",
    "\n",
    "# mean\n",
    "f=1\n",
    "def mean1(list1):\n",
    "    for stu in list1:\n",
    "        sum=0\n",
    "        for marks in stu:\n",
    "            if marks >39:\n",
    "                f=1\n",
    "                sum=sum+marks\n",
    "            else:\n",
    "                f=0\n",
    "                break\n",
    "        if f!=0:\n",
    "            print(sum/len(stu))\n",
    "        else:\n",
    "            print(\"Student fail\")\n",
    "        sum=0\n",
    "mean1(list1) \n",
    "\n",
    "# medium\n",
    "def medium1(lis1):\n",
    "    for i in range(0,len(list1)):\n",
    "        a=math.ceil(len(list1[i])/2)\n",
    "        b=math.ceil(len(list1[i]))\n",
    "        if b%2!=0:\n",
    "            print(list1[i][a-1])\n",
    "        else:\n",
    "            print(list1[i][a-1])\n",
    "            print(list1[i][a])\n",
    "            \n",
    "medium1(list1)\n",
    "list1.sort()\n"
   ]
  },
  {
   "cell_type": "code",
   "execution_count": 99,
   "id": "32431c69",
   "metadata": {},
   "outputs": [
    {
     "name": "stdout",
     "output_type": "stream",
     "text": [
      "Enter the Dates: 2018-02-01\n",
      "first\n"
     ]
    }
   ],
   "source": [
    "# 3.Consider an array containing date of birth of students (Use np.datetime64('2018-02-01')). Find the age of all students. If age is 18 label it First, if it is 19, label it Second, if it is 20, label it Third, if it is 21, label it Fourth.\n",
    "import numpy as np\n",
    "from datetime import date\n",
    "today = date.today()\n",
    "today  = np.datetime64(today) \n",
    "ip = input(\"Enter the Dates: \")\n",
    "a = ip.split(\" \")\n",
    "l = np.array(a)\n",
    "for i in a:\n",
    "  age = (today - np.datetime64(i))/365 \n",
    "  if age <= 18:\n",
    "    print(\"first\")\n",
    "  elif age == 19:\n",
    "    print(\"second\")\n",
    "  elif age == 20:\n",
    "    print(\"third\")\n",
    "  elif age > 20:\n",
    "    print(\"fourth\")"
   ]
  },
  {
   "cell_type": "code",
   "execution_count": 138,
   "id": "218f552c",
   "metadata": {},
   "outputs": [
    {
     "name": "stdout",
     "output_type": "stream",
     "text": [
      "[[85, 67, 100, 77, 94], [80, 77, 39, 87, 98], [85, 65, 70, 77, 90], [75, 77, 90, 77, 100]]\n",
      "[[85, 65, 70, 77, 90], [85, 67, 100, 77, 94], [80, 77, 39, 87, 98], [75, 77, 90, 77, 100]]\n"
     ]
    }
   ],
   "source": [
    "# 4.Create a function to sort 2d Array by a column.\n",
    "arr2=[[85,67,100,77,94],[80,77,39,87,98],[85,65,70,77,90],[75,77,90,77,100]]\n",
    "print(arr1)\n",
    "sorted_arr2 = sorted(arr2, key=lambda x:x[1])\n",
    "print(sorted_arr2)"
   ]
  },
  {
   "cell_type": "code",
   "execution_count": null,
   "id": "729f681b",
   "metadata": {},
   "outputs": [],
   "source": []
  },
  {
   "cell_type": "code",
   "execution_count": null,
   "id": "7441cb70",
   "metadata": {},
   "outputs": [],
   "source": []
  }
 ],
 "metadata": {
  "kernelspec": {
   "display_name": "Python 3 (ipykernel)",
   "language": "python",
   "name": "python3"
  },
  "language_info": {
   "codemirror_mode": {
    "name": "ipython",
    "version": 3
   },
   "file_extension": ".py",
   "mimetype": "text/x-python",
   "name": "python",
   "nbconvert_exporter": "python",
   "pygments_lexer": "ipython3",
   "version": "3.9.7"
  }
 },
 "nbformat": 4,
 "nbformat_minor": 5
}
