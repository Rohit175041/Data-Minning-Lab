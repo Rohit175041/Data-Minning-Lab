{
 "cells": [
  {
   "cell_type": "code",
   "execution_count": 31,
   "id": "f3fb9566",
   "metadata": {},
   "outputs": [
    {
     "name": "stdout",
     "output_type": "stream",
     "text": [
      "[10, 11, 12]\n"
     ]
    }
   ],
   "source": [
    "# Q1: Write a Python program to find the list in a list of lists whose sum of elements is the highest. \n",
    "# Sample lists: [1,2,3], [4,5,6], [10,11,12], [7,8,9]\n",
    "\n",
    "mylist=[[1,2,3], [4,5,6], [10,11,12], [7,8,9]]\n",
    "max=0\n",
    "index=0\n",
    "total=0\n",
    "for i in mylist:\n",
    "    for j in i:\n",
    "        total=total+j\n",
    "    if max<total:\n",
    "        max=total\n",
    "        index=i\n",
    "        total=0\n",
    "    else:\n",
    "        total=0\n",
    "print(index)"
   ]
  },
  {
   "cell_type": "code",
   "execution_count": 40,
   "id": "f3d7afe3",
   "metadata": {},
   "outputs": [
    {
     "name": "stdout",
     "output_type": "stream",
     "text": [
      "Enter the no. of element:3\n",
      "4\n",
      "5\n",
      "6\n",
      "True\n"
     ]
    }
   ],
   "source": [
    "# Q2: Write a Python program to check whether a list contains a sublist.\n",
    "\n",
    "def checksubList(list1 ,list2):\n",
    "    return list1 in list2\n",
    "\n",
    "\n",
    "mylist=[[1,2,3], [4,5,6], [10,11,12], [7,8,9]]\n",
    "sublist=[]\n",
    "\n",
    "inp=int(input(\"Enter the no. of element:\"))\n",
    "\n",
    "for i in range(0,inp):\n",
    "    sublist.append(int(input()))\n",
    "print(checksubList(sublist,mylist))"
   ]
  },
  {
   "cell_type": "code",
   "execution_count": null,
   "id": "2190c591",
   "metadata": {},
   "outputs": [],
   "source": []
  }
 ],
 "metadata": {
  "kernelspec": {
   "display_name": "Python 3 (ipykernel)",
   "language": "python",
   "name": "python3"
  },
  "language_info": {
   "codemirror_mode": {
    "name": "ipython",
    "version": 3
   },
   "file_extension": ".py",
   "mimetype": "text/x-python",
   "name": "python",
   "nbconvert_exporter": "python",
   "pygments_lexer": "ipython3",
   "version": "3.9.7"
  }
 },
 "nbformat": 4,
 "nbformat_minor": 5
}
